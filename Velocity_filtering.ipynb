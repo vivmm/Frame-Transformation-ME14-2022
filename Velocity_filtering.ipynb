{
 "cells": [
  {
   "cell_type": "code",
   "execution_count": 16,
   "metadata": {},
   "outputs": [],
   "source": [
    "import numpy as np\n",
    "import cv2 as cv\n",
    "import math\n",
    "from matplotlib import pyplot as plt\n",
    "import pandas as pd\n",
    "%matplotlib inline\n",
    "\n",
    "from matplotlib.pyplot import cm\n",
    "from PIL import Image, ImageOps"
   ]
  },
  {
   "attachments": {},
   "cell_type": "markdown",
   "metadata": {},
   "source": [
    "for problamatic path\n",
    "\n",
    "input:\n",
    "- track_file_path - path ของไฟล์ csv ผลลัพธ์ tracking\n",
    "- v_threshold = 500\n",
    "- output_filename = 'problem_id1.out'\n",
    "\n",
    "output:\n",
    "- problem_id"
   ]
  },
  {
   "cell_type": "code",
   "execution_count": 17,
   "metadata": {},
   "outputs": [],
   "source": [
    "#input\n",
    "track_file_path = 'transformedTrack_traj4_p.csv'\n",
    "v_threshold = 500\n",
    "output_filename = 'problem_id4.out'"
   ]
  },
  {
   "cell_type": "code",
   "execution_count": 18,
   "metadata": {},
   "outputs": [],
   "source": [
    "def filter_velocity(path,thresh_v):\n",
    "  fps = 60\n",
    "  time_step  = 1/fps\n",
    "\n",
    "  df = pd.read_csv(path)\n",
    "  sort_id = df.sort_values([\"id\",\"frame\"])\n",
    "  problem_id =[]\n",
    "  max_id = sort_id['id'].max()\n",
    "  for i in range(1, max_id+1):\n",
    "    id1 = sort_id[sort_id[\"id\"] == i]\n",
    "    id1 = id1.reset_index()\n",
    "    prev_x = None\n",
    "    prev_y = None\n",
    "\n",
    "    for j in range(0, len(id1)):\n",
    "      x_center = id1.iloc[j]['x']\n",
    "      y_center = id1.iloc[j]['y']\n",
    "\n",
    "      if prev_x != None and prev_y != None:\n",
    "        dist = math.dist((prev_x,prev_y),(x_center,y_center))/1000 #km\n",
    "        v = dist/time_step*60*60 #km/hr\n",
    "        \n",
    "        if v >= thresh_v:\n",
    "           problem_id.append(id1.iloc[j]['id'])\n",
    "           #print(v)\n",
    "           break\n",
    "      \n",
    "      prev_x = x_center\n",
    "      prev_y = y_center     \n",
    "  return problem_id\n"
   ]
  },
  {
   "cell_type": "code",
   "execution_count": 19,
   "metadata": {},
   "outputs": [],
   "source": [
    "fv = filter_velocity(track_file_path,v_threshold)\n",
    "np.savetxt(output_filename, fv, delimiter=',')"
   ]
  },
  {
   "cell_type": "code",
   "execution_count": 20,
   "metadata": {},
   "outputs": [
    {
     "name": "stdout",
     "output_type": "stream",
     "text": [
      "[8, 16, 30, 33, 34, 35, 51, 60, 61, 62, 63, 80, 86, 90, 92, 104, 105, 115, 118, 126, 128, 144, 153, 164, 167, 171, 175, 182, 185, 186, 191, 195, 240, 252, 282, 287]\n"
     ]
    }
   ],
   "source": [
    "print(fv)"
   ]
  }
 ],
 "metadata": {
  "kernelspec": {
   "display_name": "Python 3",
   "language": "python",
   "name": "python3"
  },
  "language_info": {
   "codemirror_mode": {
    "name": "ipython",
    "version": 3
   },
   "file_extension": ".py",
   "mimetype": "text/x-python",
   "name": "python",
   "nbconvert_exporter": "python",
   "pygments_lexer": "ipython3",
   "version": "3.10.5"
  },
  "orig_nbformat": 4
 },
 "nbformat": 4,
 "nbformat_minor": 2
}
