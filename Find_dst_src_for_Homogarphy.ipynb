{
 "cells": [
  {
   "cell_type": "code",
   "execution_count": 1,
   "id": "125d273e",
   "metadata": {},
   "outputs": [],
   "source": [
    "import numpy as np\n",
    "import cv2 as cv\n",
    "import math"
   ]
  },
  {
   "attachments": {},
   "cell_type": "markdown",
   "id": "39412d5e",
   "metadata": {},
   "source": [
    "สำหรับหาจุดใน image coordinate และ จุดใน world coordiante (BEV)\n",
    "\n",
    "input:\n",
    "- src - รูปจาก footage\n",
    "- dst - รูปจาก google map หรือรูป BEV อื่นๆ\n",
    "- no_point - จำนวนจุด(นับจากจุดแรก)ที่อยู่ในแนวเดียวกัน ที่จะให้เป็นจุดบนแกน x\n",
    "- ref_len - ความยาวอ้างอิงสำหรับ scale เพื่อหาตำแหน่งจุดจาก google map\n",
    "- ref_len_idx - ลำดับของจุดต้น-ปลายของความยาวอ้างอิง\n",
    "- measured_data - ถ้าต้องการ replace จุดจาก google map เป็นจุดที่วัดมา\n",
    "\n",
    "output:\n",
    "- src.out - จุดใน image coordinate\n",
    "- dst.out - จุดใน world coordiante\n",
    "\n",
    "How to use:\n",
    "- เมื่อกด run จะมีหน้าต่างรูป dst เด้งขึ้นมา คลิกขวาเพื่อกดเลือกจุด กด \"s\" เพื่อ save ตำแหน่งแต่ละจุด กด \"esc\" เพื่อปิดหน้าต่างเมื่อคลิกจุดครบแล้ว \n",
    "- ต่อมาจะมาหน้าต่างรูป src เด้งขึ้นมา คลิกเพื่อเลือกจุดด้วยวิธีเดิม **คลิกจุกตามลำดับเดียวกันกับในรูป dst\n",
    "**ถ้ากดผิด กด \"esc\" เพื่อปิดหน้าต่างแล้ว run cell ใหม่\n",
    "\n",
    "หมายเหตุ:\n",
    "- assume no_point จุดแรกใน dst อยู่ในแนวเดียวกัน และจะให้แกนนั้นเป็นแกน x\n"
   ]
  },
  {
   "cell_type": "code",
   "execution_count": 2,
   "id": "31cfae4c",
   "metadata": {},
   "outputs": [],
   "source": [
    "drawing = False # true if mouse is pressed\n",
    "src_x, src_y = -1,-1\n",
    "dst_x, dst_y = -1,-1\n",
    "\n",
    "trans_list = []\n",
    "\n",
    "\n",
    "#input-----------------------------------\n",
    "src = cv.imread('imgs/asoke_s.jpg', -1)\n",
    "dst = cv.imread('imgs/asoke_ref_s.jpg', -1)\n",
    "\n",
    "no_point = 4 #for north--5 for south--4\n",
    "\n",
    "ref_len = 21.95 #for north--18.95 for south--21.95\n",
    "ref_len_idx = (0,3) #for north--(0,4) for south--(0,3)\n",
    "\n",
    "#measured_data = [[0,0], [2.81,0], [5.92,0], [8.33,0], [18.95,0]] #north\n",
    "measured_data = [[0,0], [5.31,0], [8.09,0], [21.15,0]] #south\n",
    "#-----------------------------------"
   ]
  },
  {
   "attachments": {},
   "cell_type": "markdown",
   "id": "05d03552",
   "metadata": {},
   "source": [
    "## Find dst in world coordinate"
   ]
  },
  {
   "cell_type": "code",
   "execution_count": 3,
   "id": "897f2f7c",
   "metadata": {},
   "outputs": [
    {
     "ename": "KeyboardInterrupt",
     "evalue": "",
     "output_type": "error",
     "traceback": [
      "\u001b[1;31m---------------------------------------------------------------------------\u001b[0m",
      "\u001b[1;31mKeyboardInterrupt\u001b[0m                         Traceback (most recent call last)",
      "\u001b[1;32mc:\\Users\\vimol\\SENIOR\\homography-computation-master\\Find_dst_src_for_Homogarphy.ipynb Cell 5\u001b[0m in \u001b[0;36m<cell line: 51>\u001b[1;34m()\u001b[0m\n\u001b[0;32m     <a href='vscode-notebook-cell:/c%3A/Users/vimol/SENIOR/homography-computation-master/Find_dst_src_for_Homogarphy.ipynb#W4sZmlsZQ%3D%3D?line=50'>51</a>\u001b[0m \u001b[39mwhile\u001b[39;00m(\u001b[39m1\u001b[39m):\n\u001b[0;32m     <a href='vscode-notebook-cell:/c%3A/Users/vimol/SENIOR/homography-computation-master/Find_dst_src_for_Homogarphy.ipynb#W4sZmlsZQ%3D%3D?line=51'>52</a>\u001b[0m     cv\u001b[39m.\u001b[39mimshow(\u001b[39m'\u001b[39m\u001b[39mdst\u001b[39m\u001b[39m'\u001b[39m,dst_copy)\n\u001b[1;32m---> <a href='vscode-notebook-cell:/c%3A/Users/vimol/SENIOR/homography-computation-master/Find_dst_src_for_Homogarphy.ipynb#W4sZmlsZQ%3D%3D?line=52'>53</a>\u001b[0m     k \u001b[39m=\u001b[39m cv\u001b[39m.\u001b[39;49mwaitKey(\u001b[39m1\u001b[39;49m) \u001b[39m&\u001b[39m \u001b[39m0xFF\u001b[39m\n\u001b[0;32m     <a href='vscode-notebook-cell:/c%3A/Users/vimol/SENIOR/homography-computation-master/Find_dst_src_for_Homogarphy.ipynb#W4sZmlsZQ%3D%3D?line=53'>54</a>\u001b[0m     \u001b[39mif\u001b[39;00m k \u001b[39m==\u001b[39m \u001b[39mord\u001b[39m(\u001b[39m'\u001b[39m\u001b[39ms\u001b[39m\u001b[39m'\u001b[39m):\n\u001b[0;32m     <a href='vscode-notebook-cell:/c%3A/Users/vimol/SENIOR/homography-computation-master/Find_dst_src_for_Homogarphy.ipynb#W4sZmlsZQ%3D%3D?line=54'>55</a>\u001b[0m         \u001b[39mprint\u001b[39m(\u001b[39m'\u001b[39m\u001b[39msave points\u001b[39m\u001b[39m'\u001b[39m)\n",
      "\u001b[1;31mKeyboardInterrupt\u001b[0m: "
     ]
    },
    {
     "ename": "",
     "evalue": "",
     "output_type": "error",
     "traceback": [
      "\u001b[1;31mThe Kernel crashed while executing code in the the current cell or a previous cell. Please review the code in the cell(s) to identify a possible cause of the failure. Click <a href='https://aka.ms/vscodeJupyterKernelCrash'>here</a> for more info. View Jupyter <a href='command:jupyter.viewOutput'>log</a> for further details."
     ]
    }
   ],
   "source": [
    "# mouse callback function\n",
    "def select_points_dst(event,x,y,flags,param):\n",
    "    global dst_x, dst_y, drawing\n",
    "    if event == cv.EVENT_LBUTTONDOWN:\n",
    "        drawing = True\n",
    "        dst_x, dst_y = x,y\n",
    "        cv.circle(dst_copy,(x,y),5,(0,0,255),-1)\n",
    "    elif event == cv.EVENT_LBUTTONUP:\n",
    "        drawing = False\n",
    "\n",
    "def find_rotation_angel(a,no_point):\n",
    "    sum_atan = 0\n",
    "    for i in range(no_point-1):\n",
    "        i += 1\n",
    "        sum_atan += math.atan(a[i][1]/a[i][0])\n",
    "    rad = sum_atan/(no_point-1)\n",
    "    return rad\n",
    "\n",
    "def transformDst(a):\n",
    "    #scale\n",
    "    a = np.array(a)\n",
    "    a = a * norma\n",
    "    #set origin\n",
    "    x0 = a[0][0]\n",
    "    y0 = a[0][1]\n",
    "    for i in range(len(a)):\n",
    "        a[i][0] += -x0\n",
    "        a[i][1] += -y0\n",
    "    # print(\"set origin at (0,0):\")\n",
    "    # print(a)\n",
    "    print(\"x0: \" + str(x0))\n",
    "    print(\"y0: \" + str(y0))\n",
    "    #rotate\n",
    "    rad = find_rotation_angel(a,no_point)\n",
    "    #rad = (math.atan(a[1][1]/a[1][0]) + math.atan(a[2][1]/a[2][0]) + math.atan(a[3][1]/a[3][0]) + math.atan(a[4][1]/a[4][0]) )/4 #north\n",
    "    #rad = (math.atan(a[1][1]/a[1][0]) + math.atan(a[2][1]/a[2][0]) + math.atan(a[3][1]/a[3][0]) )/3 #south\n",
    "    for i in range(len(a)):\n",
    "        x,y = a[i][0],a[i][1]\n",
    "        a[i][0] = x*math.cos(rad) + y*math.sin(rad)\n",
    "        a[i][1] = -x*math.sin(rad) + y*math.cos(rad)\n",
    "    print(\"rotate for \"+str(rad)+\" rad:\")\n",
    "    # print(a)\n",
    "    return(a)\n",
    "\n",
    "dst_list = []\n",
    "dst_copy = dst.copy()\n",
    "cv.namedWindow('dst',cv.WINDOW_KEEPRATIO)\n",
    "cv.setMouseCallback('dst', select_points_dst)\n",
    "\n",
    "\n",
    "while(1):\n",
    "    cv.imshow('dst',dst_copy)\n",
    "    k = cv.waitKey(1) & 0xFF\n",
    "    if k == ord('s'):\n",
    "        print('save points')\n",
    "        cv.circle(dst_copy,(dst_x,dst_y),5,(0,255,0),-1)\n",
    "        dst_list.append([dst_x,dst_y])\n",
    "        print(\"dst points:\")\n",
    "        print(dst_list);\n",
    "    elif k == 27: #esc key\n",
    "        break\n",
    "cv.destroyAllWindows()\n",
    "\n",
    "norma = ref_len/math.dist(dst_list[ref_len_idx[0]], dst_list[ref_len_idx[1]]) \n",
    "print(\"normalize facter: \" + str(norma))\n",
    "\n",
    "new_dst_list = transformDst(dst_list)\n",
    "print(new_dst_list)"
   ]
  },
  {
   "attachments": {},
   "cell_type": "markdown",
   "id": "6f5fac76",
   "metadata": {},
   "source": [
    "ถ้าต้องการ replace จุดที่หามาจาก gg map กับจุดที่วัดมา\n",
    "** make sure the order is right **"
   ]
  },
  {
   "cell_type": "code",
   "execution_count": null,
   "id": "4689574d",
   "metadata": {},
   "outputs": [],
   "source": [
    "if len(measured_data)>0: \n",
    "    for i in range(len(measured_data )):\n",
    "        new_dst_list[i] = measured_data [i]"
   ]
  },
  {
   "attachments": {},
   "cell_type": "markdown",
   "id": "2f54e4e5",
   "metadata": {},
   "source": [
    "for save the new dst as a .out file"
   ]
  },
  {
   "cell_type": "code",
   "execution_count": null,
   "id": "c74f73f1",
   "metadata": {},
   "outputs": [],
   "source": [
    "np.savetxt('dst.out', new_dst_list, delimiter=',')"
   ]
  },
  {
   "attachments": {},
   "cell_type": "markdown",
   "id": "ffce744c",
   "metadata": {},
   "source": [
    "## Find src in image coordinate"
   ]
  },
  {
   "cell_type": "code",
   "execution_count": null,
   "id": "4fb68805",
   "metadata": {},
   "outputs": [
    {
     "name": "stdout",
     "output_type": "stream",
     "text": [
      "save points\n",
      "src points:\n",
      "[[508, 378]]\n",
      "save points\n",
      "src points:\n",
      "[[508, 378], [664, 340]]\n",
      "save points\n",
      "src points:\n",
      "[[508, 378], [664, 340], [736, 325]]\n",
      "save points\n",
      "src points:\n",
      "[[508, 378], [664, 340], [736, 325], [991, 261]]\n",
      "save points\n",
      "src points:\n",
      "[[508, 378], [664, 340], [736, 325], [991, 261], [918, 408]]\n",
      "save points\n",
      "src points:\n",
      "[[508, 378], [664, 340], [736, 325], [991, 261], [918, 408], [994, 427]]\n",
      "save points\n",
      "src points:\n",
      "[[508, 378], [664, 340], [736, 325], [991, 261], [918, 408], [994, 427], [1095, 466]]\n",
      "save points\n",
      "src points:\n",
      "[[508, 378], [664, 340], [736, 325], [991, 261], [918, 408], [994, 427], [1095, 466], [1222, 526]]\n",
      "save points\n",
      "src points:\n",
      "[[508, 378], [664, 340], [736, 325], [991, 261], [918, 408], [994, 427], [1095, 466], [1222, 526], [1357, 588]]\n",
      "save points\n",
      "src points:\n",
      "[[508, 378], [664, 340], [736, 325], [991, 261], [918, 408], [994, 427], [1095, 466], [1222, 526], [1357, 588], [1572, 680]]\n",
      "save points\n",
      "src points:\n",
      "[[508, 378], [664, 340], [736, 325], [991, 261], [918, 408], [994, 427], [1095, 466], [1222, 526], [1357, 588], [1572, 680], [1503, 781]]\n",
      "save points\n",
      "src points:\n",
      "[[508, 378], [664, 340], [736, 325], [991, 261], [918, 408], [994, 427], [1095, 466], [1222, 526], [1357, 588], [1572, 680], [1503, 781], [1341, 1004]]\n",
      "[[508, 378], [664, 340], [736, 325], [991, 261], [918, 408], [994, 427], [1095, 466], [1222, 526], [1357, 588], [1572, 680], [1503, 781], [1341, 1004]]\n"
     ]
    }
   ],
   "source": [
    "# mouse callback function\n",
    "def select_points_src(event,x,y,flags,param):\n",
    "    global src_x, src_y, trans_x, trans_y, drawing\n",
    "    if event == cv.EVENT_LBUTTONDOWN:\n",
    "        drawing = True\n",
    "        src_x, src_y = x,y\n",
    "        cv.circle(src_copy,(x,y),5,(0,0,255),-1)\n",
    "    elif event == cv.EVENT_LBUTTONUP:\n",
    "        drawing = False\n",
    "\n",
    "src_list = []\n",
    "src_copy = src.copy()\n",
    "cv.namedWindow('src',cv.WINDOW_KEEPRATIO)\n",
    "cv.setMouseCallback('src', select_points_src)\n",
    "\n",
    "while(1):\n",
    "    cv.imshow('src',src_copy)\n",
    "    k = cv.waitKey(1) & 0xFF\n",
    "    if k == ord('s'):\n",
    "        print('save points')\n",
    "        cv.circle(src_copy,(src_x,src_y),5,(0,255,0),-1)\n",
    "        src_list.append([src_x,src_y])\n",
    "        print(\"src points:\")\n",
    "        print(src_list)\n",
    "    elif k == 27: #esc key\n",
    "        break\n",
    "cv.destroyAllWindows()\n",
    "\n",
    "print(src_list)"
   ]
  },
  {
   "attachments": {},
   "cell_type": "markdown",
   "id": "96389013",
   "metadata": {},
   "source": [
    "for save the new src as a .out file"
   ]
  },
  {
   "cell_type": "code",
   "execution_count": null,
   "id": "4c357aa9",
   "metadata": {},
   "outputs": [],
   "source": [
    "src_list = np.array(src_list)\n",
    "np.savetxt('src.out', src_list, delimiter=',')"
   ]
  }
 ],
 "metadata": {
  "kernelspec": {
   "display_name": "Python 3",
   "language": "python",
   "name": "python3"
  },
  "language_info": {
   "codemirror_mode": {
    "name": "ipython",
    "version": 3
   },
   "file_extension": ".py",
   "mimetype": "text/x-python",
   "name": "python",
   "nbconvert_exporter": "python",
   "pygments_lexer": "ipython3",
   "version": "3.10.5"
  },
  "vscode": {
   "interpreter": {
    "hash": "369f2c481f4da34e4445cda3fffd2e751bd1c4d706f27375911949ba6bb62e1c"
   }
  }
 },
 "nbformat": 4,
 "nbformat_minor": 5
}
