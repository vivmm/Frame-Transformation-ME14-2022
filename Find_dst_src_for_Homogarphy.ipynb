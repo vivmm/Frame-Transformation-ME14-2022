{
 "cells": [
  {
   "cell_type": "code",
   "execution_count": 39,
   "id": "125d273e",
   "metadata": {},
   "outputs": [],
   "source": [
    "import numpy as np\n",
    "import cv2 as cv\n",
    "import math\n",
    "from matplotlib import pyplot as plt\n",
    "%matplotlib inline"
   ]
  },
  {
   "attachments": {},
   "cell_type": "markdown",
   "id": "39412d5e",
   "metadata": {},
   "source": [
    "สำหรับหาจุดใน image coordinate และ จุดใน world coordiante (BEV)\n",
    "\n",
    "input:\n",
    "- src - รูปจาก footage\n",
    "- dst - รูปจาก google map หรือรูป BEV อื่นๆ\n",
    "- no_point - จำนวนจุด(นับจากจุดแรก)ที่อยู่ในแนวเดียวกัน ที่จะให้เป็นจุดบนแกน x\n",
    "- ref_len - ความยาวอ้างอิงสำหรับ scale เพื่อหาตำแหน่งจุดจาก google map\n",
    "- ref_len_idx - ลำดับของจุดต้น-ปลายของความยาวอ้างอิง\n",
    "- measured_data - ถ้าต้องการ replace จุดจาก google map เป็นจุดที่วัดมา\n",
    "\n",
    "output:\n",
    "- src.out - จุดใน image coordinate\n",
    "- dst.out - จุดใน world coordiante\n",
    "\n",
    "How to use:\n",
    "- เมื่อกด run จะมีหน้าต่างรูป dst เด้งขึ้นมา คลิกขวาเพื่อกดเลือกจุด กด \"s\" เพื่อ save ตำแหน่งแต่ละจุด กด \"esc\" เพื่อปิดหน้าต่างเมื่อคลิกจุดครบแล้ว \n",
    "- ต่อมาจะมาหน้าต่างรูป src เด้งขึ้นมา คลิกเพื่อเลือกจุดด้วยวิธีเดิม **คลิกจุกตามลำดับเดียวกันกับในรูป dst\n",
    "**ถ้ากดผิด กด \"esc\" เพื่อปิดหน้าต่างแล้ว run cell ใหม่\n",
    "\n",
    "หมายเหตุ:\n",
    "- assume no_point จุดแรกใน dst อยู่ในแนวเดียวกัน และจะให้แกนนั้นเป็นแกน x\n"
   ]
  },
  {
   "cell_type": "code",
   "execution_count": 40,
   "id": "31cfae4c",
   "metadata": {},
   "outputs": [],
   "source": [
    "drawing = False # true if mouse is pressed\n",
    "src_x, src_y = -1,-1\n",
    "dst_x, dst_y = -1,-1\n",
    "\n",
    "trans_list = []\n",
    "\n",
    "\n",
    "#input-----------------------------------\n",
    "src = cv.imread('imgs/asoke_s.jpg', -1)\n",
    "dst = cv.imread('imgs/asoke_ref_s.jpg', -1)\n",
    "\n",
    "no_point = 4 #for north--5 for south--4\n",
    "\n",
    "ref_len = 21.95 #for north--18.95 for south--21.95\n",
    "ref_len_idx = (0,3) #for north--(0,4) for south--(0,3)\n",
    "\n",
    "#measured_data = [[0,0], [2.81,0], [5.92,0], [8.33,0], [18.95,0]] #north\n",
    "measured_data = [[0,0], [5.31,0], [8.09,0], [21.15,0]] #south\n",
    "#-----------------------------------"
   ]
  },
  {
   "attachments": {},
   "cell_type": "markdown",
   "id": "05d03552",
   "metadata": {},
   "source": [
    "## Find dst in world coordinate"
   ]
  },
  {
   "cell_type": "code",
   "execution_count": 41,
   "id": "897f2f7c",
   "metadata": {},
   "outputs": [
    {
     "name": "stdout",
     "output_type": "stream",
     "text": [
      "save points\n",
      "dst points:\n",
      "[[574, 414]]\n",
      "save points\n",
      "dst points:\n",
      "[[574, 414], [593, 321]]\n",
      "save points\n",
      "dst points:\n",
      "[[574, 414], [593, 321], [603, 267]]\n",
      "save points\n",
      "dst points:\n",
      "[[574, 414], [593, 321], [603, 267], [647, 40]]\n",
      "save points\n",
      "dst points:\n",
      "[[574, 414], [593, 321], [603, 267], [647, 40], [755, 379]]\n",
      "save points\n",
      "dst points:\n",
      "[[574, 414], [593, 321], [603, 267], [647, 40], [755, 379], [789, 405]]\n",
      "save points\n",
      "dst points:\n",
      "[[574, 414], [593, 321], [603, 267], [647, 40], [755, 379], [789, 405], [839, 444]]\n",
      "save points\n",
      "dst points:\n",
      "[[574, 414], [593, 321], [603, 267], [647, 40], [755, 379], [789, 405], [839, 444], [895, 485]]\n",
      "save points\n",
      "dst points:\n",
      "[[574, 414], [593, 321], [603, 267], [647, 40], [755, 379], [789, 405], [839, 444], [895, 485], [946, 523]]\n",
      "save points\n",
      "dst points:\n",
      "[[574, 414], [593, 321], [603, 267], [647, 40], [755, 379], [789, 405], [839, 444], [895, 485], [946, 523], [1002, 564]]\n",
      "save points\n",
      "dst points:\n",
      "[[574, 414], [593, 321], [603, 267], [647, 40], [755, 379], [789, 405], [839, 444], [895, 485], [946, 523], [1002, 564], [992, 621]]\n",
      "save points\n",
      "dst points:\n",
      "[[574, 414], [593, 321], [603, 267], [647, 40], [755, 379], [789, 405], [839, 444], [895, 485], [946, 523], [1002, 564], [992, 621], [974, 708]]\n",
      "normalize facter: 0.05760281917315348\n",
      "-33.0640182053901\n",
      "-23.84756713768554\n",
      "rotate for -1.374439955747311 rad:\n",
      "[[ 0.00000000e+00  0.00000000e+00]\n",
      " [ 5.46764523e+00  2.82756145e-02]\n",
      " [ 8.63080631e+00 -1.36246562e-02]\n",
      " [ 2.19498583e+01 -7.88615801e-02]\n",
      " [ 4.01146027e+00  9.83242675e+00]\n",
      " [ 2.92466304e+00  1.20454796e+01]\n",
      " [ 1.28322907e+00  1.53085631e+01]\n",
      " [-4.03767915e-01  1.89330983e+01]\n",
      " [-1.97746783e+00  2.22414395e+01]\n",
      " [-3.66446482e+00  2.58659747e+01]\n",
      " [-6.99711366e+00  2.59415894e+01]\n",
      " [-1.21145452e+01  2.59023809e+01]]\n"
     ]
    }
   ],
   "source": [
    "# mouse callback function\n",
    "def select_points_dst(event,x,y,flags,param):\n",
    "    global dst_x, dst_y, drawing\n",
    "    if event == cv.EVENT_LBUTTONDOWN:\n",
    "        drawing = True\n",
    "        dst_x, dst_y = x,y\n",
    "        cv.circle(dst_copy,(x,y),5,(0,0,255),-1)\n",
    "    elif event == cv.EVENT_LBUTTONUP:\n",
    "        drawing = False\n",
    "\n",
    "def find_rotation_angel(a,no_point):\n",
    "    sum_atan = 0\n",
    "    for i in range(no_point-1):\n",
    "        i += 1\n",
    "        sum_atan += math.atan(a[i][1]/a[i][0])\n",
    "    rad = sum_atan/(no_point-1)\n",
    "    return rad\n",
    "\n",
    "def transformDst(a):\n",
    "    #scale\n",
    "    a = np.array(a)\n",
    "    a = a * norma\n",
    "    #set origin\n",
    "    x0 = a[0][0]\n",
    "    y0 = a[0][1]\n",
    "    for i in range(len(a)):\n",
    "        a[i][0] += -x0\n",
    "        a[i][1] += -y0\n",
    "    # print(\"set origin at (0,0):\")\n",
    "    # print(a)\n",
    "    print(str(-x0))\n",
    "    print(str(-y0))\n",
    "    #rotate\n",
    "    rad = find_rotation_angel(a,no_point)\n",
    "    #rad = (math.atan(a[1][1]/a[1][0]) + math.atan(a[2][1]/a[2][0]) + math.atan(a[3][1]/a[3][0]) + math.atan(a[4][1]/a[4][0]) )/4 #north\n",
    "    #rad = (math.atan(a[1][1]/a[1][0]) + math.atan(a[2][1]/a[2][0]) + math.atan(a[3][1]/a[3][0]) )/3 #south\n",
    "    for i in range(len(a)):\n",
    "        x,y = a[i][0],a[i][1]\n",
    "        a[i][0] = x*math.cos(rad) + y*math.sin(rad)\n",
    "        a[i][1] = -x*math.sin(rad) + y*math.cos(rad)\n",
    "    print(\"rotate for \"+str(rad)+\" rad:\")\n",
    "    # print(a)\n",
    "    return(a)\n",
    "\n",
    "dst_list = []\n",
    "dst_copy = dst.copy()\n",
    "cv.namedWindow('dst',cv.WINDOW_KEEPRATIO)\n",
    "cv.setMouseCallback('dst', select_points_dst)\n",
    "\n",
    "\n",
    "while(1):\n",
    "    cv.imshow('dst',dst_copy)\n",
    "    k = cv.waitKey(1) & 0xFF\n",
    "    if k == ord('s'):\n",
    "        print('save points')\n",
    "        cv.circle(dst_copy,(dst_x,dst_y),5,(0,255,0),-1)\n",
    "        dst_list.append([dst_x,dst_y])\n",
    "        print(\"dst points:\")\n",
    "        print(dst_list);\n",
    "    elif k == 27: #esc key\n",
    "        break\n",
    "cv.destroyAllWindows()\n",
    "\n",
    "norma = ref_len/math.dist(dst_list[ref_len_idx[0]], dst_list[ref_len_idx[1]]) \n",
    "print(\"normalize facter: \" + str(norma))\n",
    "\n",
    "new_dst_list = transformDst(dst_list)\n",
    "print(new_dst_list)"
   ]
  },
  {
   "attachments": {},
   "cell_type": "markdown",
   "id": "6f5fac76",
   "metadata": {},
   "source": [
    "ถ้าต้องการ replace จุดที่หามาจาก gg map กับจุดที่วัดมา\n",
    "** make sure the order is right **"
   ]
  },
  {
   "cell_type": "code",
   "execution_count": 42,
   "id": "4689574d",
   "metadata": {},
   "outputs": [],
   "source": [
    "if len(measured_data)>0: \n",
    "    for i in range(len(measured_data )):\n",
    "        new_dst_list[i] = measured_data [i]"
   ]
  },
  {
   "attachments": {},
   "cell_type": "markdown",
   "id": "2f54e4e5",
   "metadata": {},
   "source": [
    "for save the new dst as a .out file"
   ]
  },
  {
   "cell_type": "code",
   "execution_count": 43,
   "id": "c74f73f1",
   "metadata": {},
   "outputs": [],
   "source": [
    "np.savetxt('dst.out', new_dst_list, delimiter=',')"
   ]
  },
  {
   "attachments": {},
   "cell_type": "markdown",
   "id": "7bd5368d",
   "metadata": {},
   "source": [
    "## Visualization"
   ]
  },
  {
   "cell_type": "code",
   "execution_count": 44,
   "id": "934e8195",
   "metadata": {},
   "outputs": [
    {
     "data": {
      "image/png": "[encoded data removed]",
      "text/plain": [
       "<Figure size 432x288 with 1 Axes>"
      ]
     },
     "metadata": {
      "needs_background": "light"
     },
     "output_type": "display_data"
    },
    {
     "data": {
      "image/png": "[encoded data removed]",
      "text/plain": [
       "<Figure size 432x288 with 1 Axes>"
      ]
     },
     "metadata": {
      "needs_background": "light"
     },
     "output_type": "display_data"
    }
   ],
   "source": [
    "img = cv.imread('imgs/White_full.png', -1)\n",
    "\n",
    "# Window name in which image is displayed\n",
    "window_name = 'Image'\n",
    "   \n",
    "for i in new_dst_list:\n",
    "    # Center coordinates\n",
    "    center_coordinates = (round(i[0]*30+600),round(i[1]*30+200))\n",
    "    img = cv.circle(img, center_coordinates, 8, (0, 255, 100), -1) #green\n",
    "   \n",
    "# Displaying the image \n",
    "plt.imshow(img) \n",
    "plt.show()\n",
    "\n",
    "\n",
    "for i in measured_data:\n",
    "    # Center coordinates\n",
    "    center_coordinates = (round(i[0]*30+600),round(i[1]*30+200))\n",
    "    img = cv.circle(img, center_coordinates, 8, (255, 0, 0), 2) #red\n",
    "   \n",
    "# Displaying the image \n",
    "plt.imshow(img) \n",
    "plt.show()"
   ]
  },
  {
   "attachments": {},
   "cell_type": "markdown",
   "id": "ffce744c",
   "metadata": {},
   "source": [
    "## Find src in image coordinate"
   ]
  },
  {
   "cell_type": "code",
   "execution_count": 45,
   "id": "4fb68805",
   "metadata": {},
   "outputs": [
    {
     "name": "stdout",
     "output_type": "stream",
     "text": [
      "save points\n",
      "src points:\n",
      "[[508, 378]]\n",
      "save points\n",
      "src points:\n",
      "[[508, 378], [664, 340]]\n",
      "save points\n",
      "src points:\n",
      "[[508, 378], [664, 340], [736, 325]]\n",
      "save points\n",
      "src points:\n",
      "[[508, 378], [664, 340], [736, 325], [991, 261]]\n",
      "save points\n",
      "src points:\n",
      "[[508, 378], [664, 340], [736, 325], [991, 261], [918, 408]]\n",
      "save points\n",
      "src points:\n",
      "[[508, 378], [664, 340], [736, 325], [991, 261], [918, 408], [994, 427]]\n",
      "save points\n",
      "src points:\n",
      "[[508, 378], [664, 340], [736, 325], [991, 261], [918, 408], [994, 427], [1095, 466]]\n",
      "save points\n",
      "src points:\n",
      "[[508, 378], [664, 340], [736, 325], [991, 261], [918, 408], [994, 427], [1095, 466], [1222, 526]]\n",
      "save points\n",
      "src points:\n",
      "[[508, 378], [664, 340], [736, 325], [991, 261], [918, 408], [994, 427], [1095, 466], [1222, 526], [1357, 588]]\n",
      "save points\n",
      "src points:\n",
      "[[508, 378], [664, 340], [736, 325], [991, 261], [918, 408], [994, 427], [1095, 466], [1222, 526], [1357, 588], [1572, 680]]\n",
      "save points\n",
      "src points:\n",
      "[[508, 378], [664, 340], [736, 325], [991, 261], [918, 408], [994, 427], [1095, 466], [1222, 526], [1357, 588], [1572, 680], [1503, 781]]\n",
      "save points\n",
      "src points:\n",
      "[[508, 378], [664, 340], [736, 325], [991, 261], [918, 408], [994, 427], [1095, 466], [1222, 526], [1357, 588], [1572, 680], [1503, 781], [1341, 1004]]\n",
      "[[508, 378], [664, 340], [736, 325], [991, 261], [918, 408], [994, 427], [1095, 466], [1222, 526], [1357, 588], [1572, 680], [1503, 781], [1341, 1004]]\n"
     ]
    }
   ],
   "source": [
    "# mouse callback function\n",
    "def select_points_src(event,x,y,flags,param):\n",
    "    global src_x, src_y, trans_x, trans_y, drawing\n",
    "    if event == cv.EVENT_LBUTTONDOWN:\n",
    "        drawing = True\n",
    "        src_x, src_y = x,y\n",
    "        cv.circle(src_copy,(x,y),5,(0,0,255),-1)\n",
    "    elif event == cv.EVENT_LBUTTONUP:\n",
    "        drawing = False\n",
    "\n",
    "src_list = []\n",
    "src_copy = src.copy()\n",
    "cv.namedWindow('src',cv.WINDOW_KEEPRATIO)\n",
    "cv.setMouseCallback('src', select_points_src)\n",
    "\n",
    "while(1):\n",
    "    cv.imshow('src',src_copy)\n",
    "    k = cv.waitKey(1) & 0xFF\n",
    "    if k == ord('s'):\n",
    "        print('save points')\n",
    "        cv.circle(src_copy,(src_x,src_y),5,(0,255,0),-1)\n",
    "        src_list.append([src_x,src_y])\n",
    "        print(\"src points:\")\n",
    "        print(src_list)\n",
    "    elif k == 27: #esc key\n",
    "        break\n",
    "cv.destroyAllWindows()\n",
    "\n",
    "print(src_list)"
   ]
  },
  {
   "attachments": {},
   "cell_type": "markdown",
   "id": "96389013",
   "metadata": {},
   "source": [
    "for save the new src as a .out file"
   ]
  },
  {
   "cell_type": "code",
   "execution_count": 46,
   "id": "4c357aa9",
   "metadata": {},
   "outputs": [],
   "source": [
    "src_list = np.array(src_list)\n",
    "np.savetxt('src.out', src_list, delimiter=',')"
   ]
  }
 ],
 "metadata": {
  "kernelspec": {
   "display_name": "Python 3",
   "language": "python",
   "name": "python3"
  },
  "language_info": {
   "codemirror_mode": {
    "name": "ipython",
    "version": 3
   },
   "file_extension": ".py",
   "mimetype": "text/x-python",
   "name": "python",
   "nbconvert_exporter": "python",
   "pygments_lexer": "ipython3",
   "version": "3.10.5"
  },
  "vscode": {
   "interpreter": {
    "hash": "369f2c481f4da34e4445cda3fffd2e751bd1c4d706f27375911949ba6bb62e1c"
   }
  }
 },
 "nbformat": 4,
 "nbformat_minor": 5
}
