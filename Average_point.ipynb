{
 "cells": [
  {
   "cell_type": "code",
   "execution_count": 12,
   "metadata": {},
   "outputs": [],
   "source": [
    "import numpy as np"
   ]
  },
  {
   "attachments": {},
   "cell_type": "markdown",
   "metadata": {},
   "source": [
    "find average of coordinate"
   ]
  },
  {
   "cell_type": "code",
   "execution_count": 13,
   "metadata": {},
   "outputs": [
    {
     "name": "stdout",
     "output_type": "stream",
     "text": [
      "[[[0.0, 0.0], [5.31, 0.0], [8.09, 0.0], [21.15, 0.0], [4.1153683652989175, 9.621208570551506], [2.923801365978112, 11.97811775681404], [1.3717906302877914, 15.250219845828616], [-0.4323945114604103, 18.970546850228686], [-1.9859794010197898, 22.11394927698391], [-3.772157385321819, 25.807305064467677], [-7.007271622244227, 25.819976333168853], [-12.111451376556273, 25.812173665130103]], [[0.0, 0.0], [5.31, 0.0], [8.09, 0.0], [21.15, 0.0], [3.837877730299044, 9.904912632479808], [2.9096846770958336, 12.022666077349085], [1.2804127549825002, 15.334155496198024], [-0.40576820015140713, 18.94992639618069], [-1.944612006778871, 22.126295589590015], [-3.78878119011846, 25.83197265726935], [-7.024147207705145, 25.769844146356803], [-12.11976509013791, 25.78331708891731]], [[0.0, 0.0], [5.31, 0.0], [8.09, 0.0], [21.15, 0.0], [3.8718092370480273, 9.970299993389915], [2.9669827779064404, 11.945816316212362], [1.2646375585012497, 15.236457249283175], [-0.440537068353827, 18.818549863607807], [-1.8940928594289552, 21.88739130971021], [-3.8132308174713954, 25.568303400563163], [-7.120848195241539, 25.61466826868085], [-12.142349563391857, 25.521076681659117]], [[0.0, 0.0], [5.31, 0.0], [8.09, 0.0], [21.15, 0.0], [4.011460267950244, 9.832426747218278], [2.9246630439030508, 12.045479639651843], [1.2832290694121362, 15.308563057904838], [-0.4037679153527538, 18.933098275382253], [-1.9774678310261828, 22.24143947561248], [-3.6644648157910735, 25.865974693089896], [-6.997113662641992, 25.941589379063373], [-12.114545228774784, 25.902380854461683]]]\n"
     ]
    }
   ],
   "source": [
    "#input\n",
    "output_filename = 'avg8_dst_s.out'\n",
    "filenames = [\"dst_src_s/avg5_dst_s.out\",\"dst_s6.out\",\"dst_s7.out\",\"dst_s8.out\"]\n",
    "coord_lists = []\n",
    "\n",
    "#read input\n",
    "for name in filenames:\n",
    "    src_list = np.loadtxt(name, delimiter=',')\n",
    "    src_list = src_list.tolist()\n",
    "    #src_list.pop(7)\n",
    "    coord_lists.append(src_list)\n",
    "\n",
    "print(coord_lists)"
   ]
  },
  {
   "cell_type": "code",
   "execution_count": 14,
   "metadata": {},
   "outputs": [
    {
     "name": "stdout",
     "output_type": "stream",
     "text": [
      "[(0.0, 0.0), (5.31, 0.0), (8.09, 0.0), (21.15, 0.0), (3.959128900149058, 9.832211985909877), (2.931282966220859, 11.998019947506833), (1.3000175032959194, 15.282348912303664), (-0.4206169238295996, 18.91803034634986), (-1.9505380245634496, 22.092268912974156), (-3.7596585521756873, 25.768388953847523), (-7.037345171958226, 25.78651953181747), (-12.122027814715207, 25.754737072542056)]\n"
     ]
    }
   ],
   "source": [
    "# create a new list to store the averages\n",
    "averages = []\n",
    "\n",
    "# iterate through each index of the lists and calculate the average of coordinates\n",
    "for i in range(len(coord_lists[0])):\n",
    "    x_sum = 0\n",
    "    y_sum = 0\n",
    "    for coord_list in coord_lists:\n",
    "        x_sum += coord_list[i][0]\n",
    "        y_sum += coord_list[i][1]\n",
    "    x_avg = x_sum / len(coord_lists)\n",
    "    y_avg = y_sum / len(coord_lists)\n",
    "    averages.append((x_avg, y_avg))\n",
    "\n",
    "# print the list of averages\n",
    "print(averages)\n"
   ]
  },
  {
   "cell_type": "code",
   "execution_count": 15,
   "metadata": {},
   "outputs": [],
   "source": [
    "np.savetxt(output_filename, averages, delimiter=',')"
   ]
  }
 ],
 "metadata": {
  "kernelspec": {
   "display_name": "Python 3",
   "language": "python",
   "name": "python3"
  },
  "language_info": {
   "codemirror_mode": {
    "name": "ipython",
    "version": 3
   },
   "file_extension": ".py",
   "mimetype": "text/x-python",
   "name": "python",
   "nbconvert_exporter": "python",
   "pygments_lexer": "ipython3",
   "version": "3.10.5"
  },
  "orig_nbformat": 4
 },
 "nbformat": 4,
 "nbformat_minor": 2
}
